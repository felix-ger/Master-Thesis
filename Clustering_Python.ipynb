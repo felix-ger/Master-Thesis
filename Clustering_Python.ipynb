{
 "cells": [
  {
   "cell_type": "markdown",
   "metadata": {},
   "source": [
    "# Python script from Felix Scheibe, for his MPMD Master's Thesis"
   ]
  },
  {
   "cell_type": "markdown",
   "metadata": {},
   "source": [
    "This is the Python script from Felix Scheibe, used in his Master's Thesis in Project Management and Data Science (MPMD) at Hochschule für Technik und Wirtschaft Berlin.\n",
    "\n",
    "Title: The Rise of Python and Qlik Sense in Data Science: Prospects and Limitations - Two Case Studies from the Aviation Industry\n",
    "\n",
    "First supervisor: Prof. Dr. Tilo Wendler, HTW Berlin\n",
    "Second supervisor: Prof. Bertil Haack, TH Wildau"
   ]
  },
  {
   "cell_type": "markdown",
   "metadata": {},
   "source": [
    "# 3 Empirical evaluation: Two case studies from the aviation industry"
   ]
  },
  {
   "cell_type": "markdown",
   "metadata": {},
   "source": [
    "## 3.1 Clustering passengers and air freight over EU regions"
   ]
  },
  {
   "cell_type": "markdown",
   "metadata": {},
   "source": [
    "### Data understanding"
   ]
  },
  {
   "cell_type": "markdown",
   "metadata": {},
   "source": [
    "All chapters of this script correspond to the related chapters of the Master's thesis. The aim is to compare functionalities of Qlik Sense to those of Python. Every single step is explained by comments."
   ]
  },
  {
   "cell_type": "code",
   "execution_count": 1,
   "metadata": {},
   "outputs": [],
   "source": [
    "# Import NumPy library for multi-dimensional arrays and matrices\n",
    "import numpy as np"
   ]
  },
  {
   "cell_type": "code",
   "execution_count": 2,
   "metadata": {},
   "outputs": [],
   "source": [
    "# Import Pandas library for data analysis\n",
    "import pandas as pd"
   ]
  },
  {
   "cell_type": "code",
   "execution_count": 3,
   "metadata": {},
   "outputs": [],
   "source": [
    "# read passenger dataset (tsv file: set tab as delimiter) and add new names for first and last column\n",
    "passenger_data = pd.read_csv('tgs00077_pas.tsv',delimiter='\\t',encoding='utf-8', names=[\"Region (NUTS 2)\", \"2006\", \"2007\", \"2008\", \"2009\", \"2010\", \"2011\", \"2012\", \"2013\", \"2014\", \"2015\", \"2016\", \"Number of passengers (in thousands)\"])"
   ]
  },
  {
   "cell_type": "code",
   "execution_count": 4,
   "metadata": {},
   "outputs": [],
   "source": [
    "# delete first row with old column names\n",
    "passenger_data = passenger_data.drop([0], axis=0)"
   ]
  },
  {
   "cell_type": "code",
   "execution_count": 5,
   "metadata": {},
   "outputs": [],
   "source": [
    "# delete all annual columns except 2017\n",
    "passenger_data = passenger_data.drop([\"2006\", \"2007\", \"2008\", \"2009\", \"2010\", \"2011\", \"2012\", \"2013\", \"2014\", \"2015\", \"2016\"], axis=1)"
   ]
  },
  {
   "cell_type": "code",
   "execution_count": 6,
   "metadata": {},
   "outputs": [
    {
     "data": {
      "text/html": [
       "<div>\n",
       "<style scoped>\n",
       "    .dataframe tbody tr th:only-of-type {\n",
       "        vertical-align: middle;\n",
       "    }\n",
       "\n",
       "    .dataframe tbody tr th {\n",
       "        vertical-align: top;\n",
       "    }\n",
       "\n",
       "    .dataframe thead th {\n",
       "        text-align: right;\n",
       "    }\n",
       "</style>\n",
       "<table border=\"1\" class=\"dataframe\">\n",
       "  <thead>\n",
       "    <tr style=\"text-align: right;\">\n",
       "      <th></th>\n",
       "      <th>Region (NUTS 2)</th>\n",
       "      <th>Number of passengers (in thousands)</th>\n",
       "    </tr>\n",
       "  </thead>\n",
       "  <tbody>\n",
       "    <tr>\n",
       "      <th>count</th>\n",
       "      <td>246</td>\n",
       "      <td>246</td>\n",
       "    </tr>\n",
       "    <tr>\n",
       "      <th>unique</th>\n",
       "      <td>246</td>\n",
       "      <td>208</td>\n",
       "    </tr>\n",
       "    <tr>\n",
       "      <th>top</th>\n",
       "      <td>PAS_CRD,THS_PAS,UKD7</td>\n",
       "      <td>:</td>\n",
       "    </tr>\n",
       "    <tr>\n",
       "      <th>freq</th>\n",
       "      <td>1</td>\n",
       "      <td>36</td>\n",
       "    </tr>\n",
       "  </tbody>\n",
       "</table>\n",
       "</div>"
      ],
      "text/plain": [
       "             Region (NUTS 2) Number of passengers (in thousands)\n",
       "count                    246                                 246\n",
       "unique                   246                                 208\n",
       "top     PAS_CRD,THS_PAS,UKD7                                  : \n",
       "freq                       1                                  36"
      ]
     },
     "execution_count": 6,
     "metadata": {},
     "output_type": "execute_result"
    }
   ],
   "source": [
    "# get file overview\n",
    "passenger_data.describe()"
   ]
  },
  {
   "cell_type": "code",
   "execution_count": 7,
   "metadata": {
    "scrolled": false
   },
   "outputs": [
    {
     "data": {
      "text/html": [
       "<div>\n",
       "<style scoped>\n",
       "    .dataframe tbody tr th:only-of-type {\n",
       "        vertical-align: middle;\n",
       "    }\n",
       "\n",
       "    .dataframe tbody tr th {\n",
       "        vertical-align: top;\n",
       "    }\n",
       "\n",
       "    .dataframe thead th {\n",
       "        text-align: right;\n",
       "    }\n",
       "</style>\n",
       "<table border=\"1\" class=\"dataframe\">\n",
       "  <thead>\n",
       "    <tr style=\"text-align: right;\">\n",
       "      <th></th>\n",
       "      <th>Region (NUTS 2)</th>\n",
       "      <th>Number of passengers (in thousands)</th>\n",
       "    </tr>\n",
       "  </thead>\n",
       "  <tbody>\n",
       "    <tr>\n",
       "      <th>1</th>\n",
       "      <td>PAS_CRD,THS_PAS,AT12</td>\n",
       "      <td>24333</td>\n",
       "    </tr>\n",
       "    <tr>\n",
       "      <th>2</th>\n",
       "      <td>PAS_CRD,THS_PAS,AT21</td>\n",
       "      <td>216</td>\n",
       "    </tr>\n",
       "    <tr>\n",
       "      <th>3</th>\n",
       "      <td>PAS_CRD,THS_PAS,AT22</td>\n",
       "      <td>952</td>\n",
       "    </tr>\n",
       "    <tr>\n",
       "      <th>4</th>\n",
       "      <td>PAS_CRD,THS_PAS,AT31</td>\n",
       "      <td>391</td>\n",
       "    </tr>\n",
       "    <tr>\n",
       "      <th>5</th>\n",
       "      <td>PAS_CRD,THS_PAS,AT32</td>\n",
       "      <td>1895</td>\n",
       "    </tr>\n",
       "  </tbody>\n",
       "</table>\n",
       "</div>"
      ],
      "text/plain": [
       "        Region (NUTS 2) Number of passengers (in thousands)\n",
       "1  PAS_CRD,THS_PAS,AT12                               24333\n",
       "2  PAS_CRD,THS_PAS,AT21                                 216\n",
       "3  PAS_CRD,THS_PAS,AT22                                 952\n",
       "4  PAS_CRD,THS_PAS,AT31                                 391\n",
       "5  PAS_CRD,THS_PAS,AT32                                1895"
      ]
     },
     "execution_count": 7,
     "metadata": {},
     "output_type": "execute_result"
    }
   ],
   "source": [
    "# preview first rows\n",
    "passenger_data.head()"
   ]
  },
  {
   "cell_type": "code",
   "execution_count": 8,
   "metadata": {},
   "outputs": [],
   "source": [
    "# Isolate last 4 characters of the first column for NUTS 2 classification\n",
    "passenger_data[\"Region (NUTS 2)\"] = passenger_data[\"Region (NUTS 2)\"].str.split(',').str[2]"
   ]
  },
  {
   "cell_type": "code",
   "execution_count": 9,
   "metadata": {},
   "outputs": [
    {
     "data": {
      "text/html": [
       "<div>\n",
       "<style scoped>\n",
       "    .dataframe tbody tr th:only-of-type {\n",
       "        vertical-align: middle;\n",
       "    }\n",
       "\n",
       "    .dataframe tbody tr th {\n",
       "        vertical-align: top;\n",
       "    }\n",
       "\n",
       "    .dataframe thead th {\n",
       "        text-align: right;\n",
       "    }\n",
       "</style>\n",
       "<table border=\"1\" class=\"dataframe\">\n",
       "  <thead>\n",
       "    <tr style=\"text-align: right;\">\n",
       "      <th></th>\n",
       "      <th>Region (NUTS 2)</th>\n",
       "      <th>Number of passengers (in thousands)</th>\n",
       "    </tr>\n",
       "  </thead>\n",
       "  <tbody>\n",
       "    <tr>\n",
       "      <th>1</th>\n",
       "      <td>AT12</td>\n",
       "      <td>24333</td>\n",
       "    </tr>\n",
       "    <tr>\n",
       "      <th>2</th>\n",
       "      <td>AT21</td>\n",
       "      <td>216</td>\n",
       "    </tr>\n",
       "    <tr>\n",
       "      <th>3</th>\n",
       "      <td>AT22</td>\n",
       "      <td>952</td>\n",
       "    </tr>\n",
       "    <tr>\n",
       "      <th>4</th>\n",
       "      <td>AT31</td>\n",
       "      <td>391</td>\n",
       "    </tr>\n",
       "    <tr>\n",
       "      <th>5</th>\n",
       "      <td>AT32</td>\n",
       "      <td>1895</td>\n",
       "    </tr>\n",
       "  </tbody>\n",
       "</table>\n",
       "</div>"
      ],
      "text/plain": [
       "  Region (NUTS 2) Number of passengers (in thousands)\n",
       "1            AT12                               24333\n",
       "2            AT21                                 216\n",
       "3            AT22                                 952\n",
       "4            AT31                                 391\n",
       "5            AT32                                1895"
      ]
     },
     "execution_count": 9,
     "metadata": {},
     "output_type": "execute_result"
    }
   ],
   "source": [
    "# Check result\n",
    "passenger_data.head()"
   ]
  },
  {
   "cell_type": "code",
   "execution_count": 10,
   "metadata": {},
   "outputs": [],
   "source": [
    "# read air freight dataset (tsv file: set tab as delimiter) and add new names (for first and last column)\n",
    "freight_data = pd.read_csv('tgs00078_cargo.tsv',delimiter='\\t',encoding='utf-8', names=[\"Region (NUTS 2)\", \"2006\", \"2007\", \"2008\", \"2009\", \"2010\", \"2011\", \"2012\", \"2013\", \"2014\", \"2015\", \"2016\", \"Air freight (in thousand tons)\"])"
   ]
  },
  {
   "cell_type": "code",
   "execution_count": 11,
   "metadata": {},
   "outputs": [],
   "source": [
    "# delete first row with old column names\n",
    "freight_data = freight_data.drop([0], axis=0)"
   ]
  },
  {
   "cell_type": "code",
   "execution_count": 12,
   "metadata": {},
   "outputs": [],
   "source": [
    "# delete all annual columns except 2017\n",
    "freight_data = freight_data.drop([\"2006\", \"2007\", \"2008\", \"2009\", \"2010\", \"2011\", \"2012\", \"2013\", \"2014\", \"2015\", \"2016\"], axis=1)"
   ]
  },
  {
   "cell_type": "code",
   "execution_count": 13,
   "metadata": {},
   "outputs": [
    {
     "data": {
      "text/html": [
       "<div>\n",
       "<style scoped>\n",
       "    .dataframe tbody tr th:only-of-type {\n",
       "        vertical-align: middle;\n",
       "    }\n",
       "\n",
       "    .dataframe tbody tr th {\n",
       "        vertical-align: top;\n",
       "    }\n",
       "\n",
       "    .dataframe thead th {\n",
       "        text-align: right;\n",
       "    }\n",
       "</style>\n",
       "<table border=\"1\" class=\"dataframe\">\n",
       "  <thead>\n",
       "    <tr style=\"text-align: right;\">\n",
       "      <th></th>\n",
       "      <th>Region (NUTS 2)</th>\n",
       "      <th>Air freight (in thousand tons)</th>\n",
       "    </tr>\n",
       "  </thead>\n",
       "  <tbody>\n",
       "    <tr>\n",
       "      <th>count</th>\n",
       "      <td>235</td>\n",
       "      <td>235</td>\n",
       "    </tr>\n",
       "    <tr>\n",
       "      <th>unique</th>\n",
       "      <td>235</td>\n",
       "      <td>71</td>\n",
       "    </tr>\n",
       "    <tr>\n",
       "      <th>top</th>\n",
       "      <td>THS_T,FRM_LD_NLD,ITI3</td>\n",
       "      <td>0</td>\n",
       "    </tr>\n",
       "    <tr>\n",
       "      <th>freq</th>\n",
       "      <td>1</td>\n",
       "      <td>79</td>\n",
       "    </tr>\n",
       "  </tbody>\n",
       "</table>\n",
       "</div>"
      ],
      "text/plain": [
       "              Region (NUTS 2) Air freight (in thousand tons)\n",
       "count                     235                            235\n",
       "unique                    235                             71\n",
       "top     THS_T,FRM_LD_NLD,ITI3                             0 \n",
       "freq                        1                             79"
      ]
     },
     "execution_count": 13,
     "metadata": {},
     "output_type": "execute_result"
    }
   ],
   "source": [
    "# get file overview\n",
    "freight_data.describe()"
   ]
  },
  {
   "cell_type": "code",
   "execution_count": 14,
   "metadata": {},
   "outputs": [
    {
     "data": {
      "text/html": [
       "<div>\n",
       "<style scoped>\n",
       "    .dataframe tbody tr th:only-of-type {\n",
       "        vertical-align: middle;\n",
       "    }\n",
       "\n",
       "    .dataframe tbody tr th {\n",
       "        vertical-align: top;\n",
       "    }\n",
       "\n",
       "    .dataframe thead th {\n",
       "        text-align: right;\n",
       "    }\n",
       "</style>\n",
       "<table border=\"1\" class=\"dataframe\">\n",
       "  <thead>\n",
       "    <tr style=\"text-align: right;\">\n",
       "      <th></th>\n",
       "      <th>Region (NUTS 2)</th>\n",
       "      <th>Air freight (in thousand tons)</th>\n",
       "    </tr>\n",
       "  </thead>\n",
       "  <tbody>\n",
       "    <tr>\n",
       "      <th>1</th>\n",
       "      <td>THS_T,FRM_LD_NLD,AT12</td>\n",
       "      <td>221</td>\n",
       "    </tr>\n",
       "    <tr>\n",
       "      <th>2</th>\n",
       "      <td>THS_T,FRM_LD_NLD,AT21</td>\n",
       "      <td>0</td>\n",
       "    </tr>\n",
       "    <tr>\n",
       "      <th>3</th>\n",
       "      <td>THS_T,FRM_LD_NLD,AT22</td>\n",
       "      <td>0</td>\n",
       "    </tr>\n",
       "    <tr>\n",
       "      <th>4</th>\n",
       "      <td>THS_T,FRM_LD_NLD,AT31</td>\n",
       "      <td>6</td>\n",
       "    </tr>\n",
       "    <tr>\n",
       "      <th>5</th>\n",
       "      <td>THS_T,FRM_LD_NLD,AT32</td>\n",
       "      <td>0</td>\n",
       "    </tr>\n",
       "  </tbody>\n",
       "</table>\n",
       "</div>"
      ],
      "text/plain": [
       "         Region (NUTS 2) Air freight (in thousand tons)\n",
       "1  THS_T,FRM_LD_NLD,AT12                           221 \n",
       "2  THS_T,FRM_LD_NLD,AT21                             0 \n",
       "3  THS_T,FRM_LD_NLD,AT22                             0 \n",
       "4  THS_T,FRM_LD_NLD,AT31                             6 \n",
       "5  THS_T,FRM_LD_NLD,AT32                             0 "
      ]
     },
     "execution_count": 14,
     "metadata": {},
     "output_type": "execute_result"
    }
   ],
   "source": [
    "# preview first rows\n",
    "freight_data.head()"
   ]
  },
  {
   "cell_type": "code",
   "execution_count": 15,
   "metadata": {},
   "outputs": [],
   "source": [
    "# Isolate last 4 characters of the first column for NUTS 2 classification\n",
    "freight_data[\"Region (NUTS 2)\"] = freight_data[\"Region (NUTS 2)\"].str.split(',').str[2]"
   ]
  },
  {
   "cell_type": "code",
   "execution_count": 16,
   "metadata": {},
   "outputs": [
    {
     "data": {
      "text/html": [
       "<div>\n",
       "<style scoped>\n",
       "    .dataframe tbody tr th:only-of-type {\n",
       "        vertical-align: middle;\n",
       "    }\n",
       "\n",
       "    .dataframe tbody tr th {\n",
       "        vertical-align: top;\n",
       "    }\n",
       "\n",
       "    .dataframe thead th {\n",
       "        text-align: right;\n",
       "    }\n",
       "</style>\n",
       "<table border=\"1\" class=\"dataframe\">\n",
       "  <thead>\n",
       "    <tr style=\"text-align: right;\">\n",
       "      <th></th>\n",
       "      <th>Region (NUTS 2)</th>\n",
       "      <th>Air freight (in thousand tons)</th>\n",
       "    </tr>\n",
       "  </thead>\n",
       "  <tbody>\n",
       "    <tr>\n",
       "      <th>1</th>\n",
       "      <td>AT12</td>\n",
       "      <td>221</td>\n",
       "    </tr>\n",
       "    <tr>\n",
       "      <th>2</th>\n",
       "      <td>AT21</td>\n",
       "      <td>0</td>\n",
       "    </tr>\n",
       "    <tr>\n",
       "      <th>3</th>\n",
       "      <td>AT22</td>\n",
       "      <td>0</td>\n",
       "    </tr>\n",
       "    <tr>\n",
       "      <th>4</th>\n",
       "      <td>AT31</td>\n",
       "      <td>6</td>\n",
       "    </tr>\n",
       "    <tr>\n",
       "      <th>5</th>\n",
       "      <td>AT32</td>\n",
       "      <td>0</td>\n",
       "    </tr>\n",
       "  </tbody>\n",
       "</table>\n",
       "</div>"
      ],
      "text/plain": [
       "  Region (NUTS 2) Air freight (in thousand tons)\n",
       "1            AT12                           221 \n",
       "2            AT21                             0 \n",
       "3            AT22                             0 \n",
       "4            AT31                             6 \n",
       "5            AT32                             0 "
      ]
     },
     "execution_count": 16,
     "metadata": {},
     "output_type": "execute_result"
    }
   ],
   "source": [
    "# Check result\n",
    "freight_data.head()"
   ]
  },
  {
   "cell_type": "code",
   "execution_count": 17,
   "metadata": {},
   "outputs": [
    {
     "name": "stdout",
     "output_type": "stream",
     "text": [
      "passenger dimensions: (246, 2)\n",
      "freight dimensions: (235, 2)\n"
     ]
    }
   ],
   "source": [
    "# Compare dimensions (rows, columns) of both datasets\n",
    "print(\"passenger dimensions: {}\".format(passenger_data.shape))\n",
    "print(\"freight dimensions: {}\".format(freight_data.shape))"
   ]
  },
  {
   "cell_type": "code",
   "execution_count": 18,
   "metadata": {
    "scrolled": true
   },
   "outputs": [
    {
     "data": {
      "text/plain": [
       "True    235\n",
       "Name: Region (NUTS 2), dtype: int64"
      ]
     },
     "execution_count": 18,
     "metadata": {},
     "output_type": "execute_result"
    }
   ],
   "source": [
    "# Check if all regions of the freight dataset are also in the passenger dataset (yes, they all are)\n",
    "freight_data['Region (NUTS 2)'].isin(passenger_data['Region (NUTS 2)']).value_counts()"
   ]
  },
  {
   "cell_type": "code",
   "execution_count": 19,
   "metadata": {},
   "outputs": [
    {
     "data": {
      "text/plain": [
       "True     235\n",
       "False     11\n",
       "Name: Region (NUTS 2), dtype: int64"
      ]
     },
     "execution_count": 19,
     "metadata": {},
     "output_type": "execute_result"
    }
   ],
   "source": [
    "# Check if all regions of the passenger dataset are also in the air freight dataset (no, 11 are not and will become NaN)\n",
    "passenger_data['Region (NUTS 2)'].isin(freight_data['Region (NUTS 2)']).value_counts()"
   ]
  },
  {
   "cell_type": "code",
   "execution_count": 20,
   "metadata": {},
   "outputs": [],
   "source": [
    "# Full outer join of passenger_data and freight_data, only for 2017 data\n",
    "merged_data = pd.merge(passenger_data,\n",
    "                       freight_data,                        \n",
    "                       on='Region (NUTS 2)',\n",
    "                       how='outer')"
   ]
  },
  {
   "cell_type": "code",
   "execution_count": 21,
   "metadata": {
    "scrolled": true
   },
   "outputs": [
    {
     "data": {
      "text/html": [
       "<div>\n",
       "<style scoped>\n",
       "    .dataframe tbody tr th:only-of-type {\n",
       "        vertical-align: middle;\n",
       "    }\n",
       "\n",
       "    .dataframe tbody tr th {\n",
       "        vertical-align: top;\n",
       "    }\n",
       "\n",
       "    .dataframe thead th {\n",
       "        text-align: right;\n",
       "    }\n",
       "</style>\n",
       "<table border=\"1\" class=\"dataframe\">\n",
       "  <thead>\n",
       "    <tr style=\"text-align: right;\">\n",
       "      <th></th>\n",
       "      <th>Region (NUTS 2)</th>\n",
       "      <th>Number of passengers (in thousands)</th>\n",
       "      <th>Air freight (in thousand tons)</th>\n",
       "    </tr>\n",
       "  </thead>\n",
       "  <tbody>\n",
       "    <tr>\n",
       "      <th>0</th>\n",
       "      <td>AT12</td>\n",
       "      <td>24333</td>\n",
       "      <td>221</td>\n",
       "    </tr>\n",
       "    <tr>\n",
       "      <th>1</th>\n",
       "      <td>AT21</td>\n",
       "      <td>216</td>\n",
       "      <td>0</td>\n",
       "    </tr>\n",
       "    <tr>\n",
       "      <th>2</th>\n",
       "      <td>AT22</td>\n",
       "      <td>952</td>\n",
       "      <td>0</td>\n",
       "    </tr>\n",
       "    <tr>\n",
       "      <th>3</th>\n",
       "      <td>AT31</td>\n",
       "      <td>391</td>\n",
       "      <td>6</td>\n",
       "    </tr>\n",
       "    <tr>\n",
       "      <th>4</th>\n",
       "      <td>AT32</td>\n",
       "      <td>1895</td>\n",
       "      <td>0</td>\n",
       "    </tr>\n",
       "  </tbody>\n",
       "</table>\n",
       "</div>"
      ],
      "text/plain": [
       "  Region (NUTS 2) Number of passengers (in thousands)  \\\n",
       "0            AT12                               24333   \n",
       "1            AT21                                 216   \n",
       "2            AT22                                 952   \n",
       "3            AT31                                 391   \n",
       "4            AT32                                1895   \n",
       "\n",
       "  Air freight (in thousand tons)  \n",
       "0                           221   \n",
       "1                             0   \n",
       "2                             0   \n",
       "3                             6   \n",
       "4                             0   "
      ]
     },
     "execution_count": 21,
     "metadata": {},
     "output_type": "execute_result"
    }
   ],
   "source": [
    "# Check result\n",
    "merged_data.head()"
   ]
  },
  {
   "cell_type": "code",
   "execution_count": 22,
   "metadata": {
    "scrolled": true
   },
   "outputs": [
    {
     "name": "stdout",
     "output_type": "stream",
     "text": [
      "Region (NUTS 2)                         0\n",
      "Number of passengers (in thousands)     0\n",
      "Air freight (in thousand tons)         11\n",
      "dtype: int64\n"
     ]
    }
   ],
   "source": [
    "# Check if 11 missing values from air freight dataset are correct (yes)\n",
    "print(merged_data.isnull().sum())"
   ]
  },
  {
   "cell_type": "code",
   "execution_count": 23,
   "metadata": {
    "scrolled": false
   },
   "outputs": [
    {
     "name": "stdout",
     "output_type": "stream",
     "text": [
      "<class 'pandas.core.frame.DataFrame'>\n",
      "Int64Index: 246 entries, 0 to 245\n",
      "Data columns (total 3 columns):\n",
      "Region (NUTS 2)                        246 non-null object\n",
      "Number of passengers (in thousands)    246 non-null object\n",
      "Air freight (in thousand tons)         235 non-null object\n",
      "dtypes: object(3)\n",
      "memory usage: 7.7+ KB\n"
     ]
    }
   ],
   "source": [
    "# Check data format of columns (all strings)\n",
    "merged_data.info()"
   ]
  },
  {
   "cell_type": "code",
   "execution_count": 24,
   "metadata": {},
   "outputs": [
    {
     "data": {
      "text/plain": [
       "0        79\n",
       ":        25\n",
       "1        10\n",
       "3         9\n",
       "2         7\n",
       "7         6\n",
       "6         5\n",
       "5         5\n",
       "9         5\n",
       "13        3\n",
       "36        3\n",
       "10        3\n",
       "17        3\n",
       "14        3\n",
       "11        3\n",
       "16        2\n",
       "21        2\n",
       "41        2\n",
       "26        2\n",
       "102       2\n",
       "42        2\n",
       "31        2\n",
       "12        2\n",
       "87        2\n",
       "44        2\n",
       "104       1\n",
       "55        1\n",
       "15        1\n",
       "530       1\n",
       "98        1\n",
       "         ..\n",
       "139       1\n",
       "380       1\n",
       "2193      1\n",
       "1778      1\n",
       "126       1\n",
       "696       1\n",
       "162       1\n",
       "27        1\n",
       "1792      1\n",
       "221       1\n",
       "145       1\n",
       "8         1\n",
       "203       1\n",
       "379       1\n",
       "23        1\n",
       "346       1\n",
       "19        1\n",
       "893       1\n",
       "107       1\n",
       "450       1\n",
       "757       1\n",
       "64        1\n",
       "112       1\n",
       "4         1\n",
       "72        1\n",
       "82        1\n",
       "53        1\n",
       "822       1\n",
       "219       1\n",
       "66        1\n",
       "Name: Air freight (in thousand tons), Length: 71, dtype: int64"
      ]
     },
     "execution_count": 24,
     "metadata": {},
     "output_type": "execute_result"
    }
   ],
   "source": [
    "# Check air freight column for ':', '0' and 'NaN'\n",
    "merged_data[\"Air freight (in thousand tons)\"].value_counts()"
   ]
  },
  {
   "cell_type": "code",
   "execution_count": 25,
   "metadata": {},
   "outputs": [],
   "source": [
    "# Replace ':' with '0' for passengers\n",
    "merged_data[\"Number of passengers (in thousands)\"] = merged_data[\"Number of passengers (in thousands)\"].str.replace(':','0')"
   ]
  },
  {
   "cell_type": "code",
   "execution_count": 26,
   "metadata": {},
   "outputs": [],
   "source": [
    "# Replace ':' with '0' for air freight\n",
    "merged_data[\"Air freight (in thousand tons)\"] = merged_data[\"Air freight (in thousand tons)\"].str.replace(':','0')"
   ]
  },
  {
   "cell_type": "code",
   "execution_count": 27,
   "metadata": {},
   "outputs": [],
   "source": [
    "# Replace 'NaN' with '0' for passengers\n",
    "merged_data[\"Number of passengers (in thousands)\"] = merged_data[\"Number of passengers (in thousands)\"].fillna('0')"
   ]
  },
  {
   "cell_type": "code",
   "execution_count": 28,
   "metadata": {},
   "outputs": [],
   "source": [
    "# Replace 'NaN' with '0' for air freight\n",
    "merged_data[\"Air freight (in thousand tons)\"] = merged_data[\"Air freight (in thousand tons)\"].fillna('0')"
   ]
  },
  {
   "cell_type": "code",
   "execution_count": 29,
   "metadata": {},
   "outputs": [
    {
     "data": {
      "text/plain": [
       "0        36\n",
       "318       2\n",
       "29356     2\n",
       "1         2\n",
       "3886      1\n",
       "491       1\n",
       "1621      1\n",
       "10942     1\n",
       "3499      1\n",
       "354       1\n",
       "10761     1\n",
       "1090      1\n",
       "6347      1\n",
       "2070      1\n",
       "17269     1\n",
       "717       1\n",
       "1869      1\n",
       "4530      1\n",
       "38486     1\n",
       "77987     1\n",
       "3759      1\n",
       "5829      1\n",
       "665       1\n",
       "18689     1\n",
       "12        1\n",
       "2455      1\n",
       "7         1\n",
       "12803     1\n",
       "6249      1\n",
       "247       1\n",
       "         ..\n",
       "24333     1\n",
       "1493      1\n",
       "2347      1\n",
       "935       1\n",
       "216       1\n",
       "43879     1\n",
       "284       1\n",
       "18981     1\n",
       "0         1\n",
       "20        1\n",
       "3090      1\n",
       "1842      1\n",
       "64390     1\n",
       "8552      1\n",
       "477       1\n",
       "1701      1\n",
       "8319      1\n",
       "391       1\n",
       "437       1\n",
       "4161      1\n",
       "908       1\n",
       "694       1\n",
       "2252      1\n",
       "1740      1\n",
       "3555      1\n",
       "263       1\n",
       "2375      1\n",
       "8236      1\n",
       "2806      1\n",
       "640       1\n",
       "Name: Number of passengers (in thousands), Length: 208, dtype: int64"
      ]
     },
     "execution_count": 29,
     "metadata": {},
     "output_type": "execute_result"
    }
   ],
   "source": [
    "# Check if 'NaN' and ':' are replaced by '0' for passengers (yes they are)\n",
    "merged_data[\"Number of passengers (in thousands)\"].value_counts()"
   ]
  },
  {
   "cell_type": "code",
   "execution_count": 30,
   "metadata": {
    "scrolled": true
   },
   "outputs": [
    {
     "data": {
      "text/plain": [
       "0        104\n",
       "0         11\n",
       "1         10\n",
       "3          9\n",
       "2          7\n",
       "7          6\n",
       "6          5\n",
       "9          5\n",
       "5          5\n",
       "36         3\n",
       "14         3\n",
       "13         3\n",
       "10         3\n",
       "17         3\n",
       "11         3\n",
       "102        2\n",
       "12         2\n",
       "31         2\n",
       "26         2\n",
       "42         2\n",
       "44         2\n",
       "21         2\n",
       "87         2\n",
       "16         2\n",
       "41         2\n",
       "15         1\n",
       "104        1\n",
       "98         1\n",
       "221        1\n",
       "893        1\n",
       "        ... \n",
       "66         1\n",
       "55         1\n",
       "530        1\n",
       "37         1\n",
       "19         1\n",
       "126        1\n",
       "696        1\n",
       "162        1\n",
       "27         1\n",
       "1792       1\n",
       "145        1\n",
       "8          1\n",
       "203        1\n",
       "379        1\n",
       "23         1\n",
       "346        1\n",
       "107        1\n",
       "2193       1\n",
       "450        1\n",
       "757        1\n",
       "64         1\n",
       "112        1\n",
       "4          1\n",
       "72         1\n",
       "380        1\n",
       "82         1\n",
       "822        1\n",
       "219        1\n",
       "1778       1\n",
       "53         1\n",
       "Name: Air freight (in thousand tons), Length: 71, dtype: int64"
      ]
     },
     "execution_count": 30,
     "metadata": {},
     "output_type": "execute_result"
    }
   ],
   "source": [
    "# Check if 'NaN' and ':' are replaced by '0' for air freight (yes they are)\n",
    "merged_data[\"Air freight (in thousand tons)\"].value_counts()"
   ]
  },
  {
   "cell_type": "code",
   "execution_count": 31,
   "metadata": {},
   "outputs": [
    {
     "data": {
      "text/plain": [
       "68        0\n",
       "66        0\n",
       "67        0\n",
       "69        0\n",
       "225       0\n",
       "227       0\n",
       "65        0\n",
       "70        0\n",
       "72        0\n",
       "73        0\n",
       "71        0\n",
       "113      0 \n",
       "112      0 \n",
       "114      0 \n",
       "111      0 \n",
       "110      0 \n",
       "116      0 \n",
       "122      0 \n",
       "109      0 \n",
       "121      0 \n",
       "134      0 \n",
       "137      0 \n",
       "138      0 \n",
       "117      0 \n",
       "107      0 \n",
       "91       0 \n",
       "102      0 \n",
       "100      0 \n",
       "99       0 \n",
       "94       0 \n",
       "       ... \n",
       "153     57 \n",
       "3        6 \n",
       "32       6 \n",
       "176      6 \n",
       "207      6 \n",
       "158      6 \n",
       "115     64 \n",
       "74      66 \n",
       "10     696 \n",
       "212      7 \n",
       "174      7 \n",
       "123      7 \n",
       "239      7 \n",
       "150      7 \n",
       "98       7 \n",
       "124     72 \n",
       "127     73 \n",
       "145    757 \n",
       "35       8 \n",
       "20      82 \n",
       "45     822 \n",
       "169     87 \n",
       "136     87 \n",
       "162    893 \n",
       "193      9 \n",
       "217      9 \n",
       "147      9 \n",
       "135      9 \n",
       "173      9 \n",
       "187     98 \n",
       "Name: Air freight (in thousand tons), Length: 246, dtype: object"
      ]
     },
     "execution_count": 31,
     "metadata": {},
     "output_type": "execute_result"
    }
   ],
   "source": [
    "# Check if ':' and 'NaN' have been replaced by '0' for air freight (yes they are)\n",
    "merged_data[\"Air freight (in thousand tons)\"].sort_values()"
   ]
  },
  {
   "cell_type": "code",
   "execution_count": 32,
   "metadata": {},
   "outputs": [],
   "source": [
    "# Convert strings to numeric data (integer) for passengers\n",
    "merged_data[\"Number of passengers (in thousands)\"] = merged_data[\"Number of passengers (in thousands)\"].astype(int)"
   ]
  },
  {
   "cell_type": "code",
   "execution_count": 33,
   "metadata": {},
   "outputs": [],
   "source": [
    "# Convert strings to numeric data (integer) for air freight\n",
    "merged_data[\"Air freight (in thousand tons)\"] = merged_data[\"Air freight (in thousand tons)\"].astype(int)"
   ]
  },
  {
   "cell_type": "code",
   "execution_count": 34,
   "metadata": {
    "scrolled": true
   },
   "outputs": [
    {
     "name": "stdout",
     "output_type": "stream",
     "text": [
      "<class 'pandas.core.frame.DataFrame'>\n",
      "Int64Index: 246 entries, 0 to 245\n",
      "Data columns (total 3 columns):\n",
      "Region (NUTS 2)                        246 non-null object\n",
      "Number of passengers (in thousands)    246 non-null int32\n",
      "Air freight (in thousand tons)         246 non-null int32\n",
      "dtypes: int32(2), object(1)\n",
      "memory usage: 5.8+ KB\n"
     ]
    }
   ],
   "source": [
    "# Check if passenger and air freight data is converted to integer\n",
    "merged_data.info()"
   ]
  },
  {
   "cell_type": "code",
   "execution_count": 35,
   "metadata": {
    "scrolled": true
   },
   "outputs": [
    {
     "data": {
      "text/html": [
       "<div>\n",
       "<style scoped>\n",
       "    .dataframe tbody tr th:only-of-type {\n",
       "        vertical-align: middle;\n",
       "    }\n",
       "\n",
       "    .dataframe tbody tr th {\n",
       "        vertical-align: top;\n",
       "    }\n",
       "\n",
       "    .dataframe thead th {\n",
       "        text-align: right;\n",
       "    }\n",
       "</style>\n",
       "<table border=\"1\" class=\"dataframe\">\n",
       "  <thead>\n",
       "    <tr style=\"text-align: right;\">\n",
       "      <th></th>\n",
       "      <th>Number of passengers (in thousands)</th>\n",
       "      <th>Air freight (in thousand tons)</th>\n",
       "    </tr>\n",
       "  </thead>\n",
       "  <tbody>\n",
       "    <tr>\n",
       "      <th>count</th>\n",
       "      <td>246.00000</td>\n",
       "      <td>246.000000</td>\n",
       "    </tr>\n",
       "    <tr>\n",
       "      <th>mean</th>\n",
       "      <td>7188.51626</td>\n",
       "      <td>75.922764</td>\n",
       "    </tr>\n",
       "    <tr>\n",
       "      <th>std</th>\n",
       "      <td>13684.09325</td>\n",
       "      <td>286.062542</td>\n",
       "    </tr>\n",
       "    <tr>\n",
       "      <th>min</th>\n",
       "      <td>0.00000</td>\n",
       "      <td>0.000000</td>\n",
       "    </tr>\n",
       "    <tr>\n",
       "      <th>25%</th>\n",
       "      <td>235.00000</td>\n",
       "      <td>0.000000</td>\n",
       "    </tr>\n",
       "    <tr>\n",
       "      <th>50%</th>\n",
       "      <td>1780.00000</td>\n",
       "      <td>1.000000</td>\n",
       "    </tr>\n",
       "    <tr>\n",
       "      <th>75%</th>\n",
       "      <td>7443.75000</td>\n",
       "      <td>18.500000</td>\n",
       "    </tr>\n",
       "    <tr>\n",
       "      <th>max</th>\n",
       "      <td>101458.00000</td>\n",
       "      <td>2260.000000</td>\n",
       "    </tr>\n",
       "  </tbody>\n",
       "</table>\n",
       "</div>"
      ],
      "text/plain": [
       "       Number of passengers (in thousands)  Air freight (in thousand tons)\n",
       "count                            246.00000                      246.000000\n",
       "mean                            7188.51626                       75.922764\n",
       "std                            13684.09325                      286.062542\n",
       "min                                0.00000                        0.000000\n",
       "25%                              235.00000                        0.000000\n",
       "50%                             1780.00000                        1.000000\n",
       "75%                             7443.75000                       18.500000\n",
       "max                           101458.00000                     2260.000000"
      ]
     },
     "execution_count": 35,
     "metadata": {},
     "output_type": "execute_result"
    }
   ],
   "source": [
    "# Statistical data overview\n",
    "merged_data.describe()"
   ]
  },
  {
   "cell_type": "code",
   "execution_count": 36,
   "metadata": {},
   "outputs": [],
   "source": [
    "# Import matplotlib library for data visualization\n",
    "import matplotlib.pyplot as plt"
   ]
  },
  {
   "cell_type": "code",
   "execution_count": 37,
   "metadata": {
    "scrolled": true
   },
   "outputs": [
    {
     "data": {
      "image/png": "[encoded data removed]",
      "text/plain": [
       "<matplotlib.figure.Figure at 0x2090861df28>"
      ]
     },
     "metadata": {},
     "output_type": "display_data"
    }
   ],
   "source": [
    "# Scatter plot for both dimensions\n",
    "fig, ax = plt.subplots()\n",
    "ax.scatter(merged_data['Number of passengers (in thousands)'], merged_data['Air freight (in thousand tons)'])\n",
    "ax.set_xlabel('Number of passengers (in thousands)')\n",
    "ax.set_ylabel('Air freight (in thousand tons)')\n",
    "plt.show()"
   ]
  },
  {
   "cell_type": "code",
   "execution_count": 38,
   "metadata": {},
   "outputs": [
    {
     "name": "stdout",
     "output_type": "stream",
     "text": [
      "r: 0.7296818566896833\n",
      "r-squared: 0.5324356119821035\n"
     ]
    }
   ],
   "source": [
    "# Calculate R and R^2\n",
    "from scipy import stats\n",
    "x = merged_data['Number of passengers (in thousands)']\n",
    "y = merged_data['Air freight (in thousand tons)']\n",
    "slope, intercept, r_value, p_value, std_err = stats.linregress(x,y)\n",
    "print(\"r:\", r_value)\n",
    "print(\"r-squared:\", r_value**2)"
   ]
  },
  {
   "cell_type": "code",
   "execution_count": 39,
   "metadata": {},
   "outputs": [
    {
     "data": {
      "image/png": "[encoded data removed]",
      "text/plain": [
       "<matplotlib.figure.Figure at 0x2090a70c0f0>"
      ]
     },
     "metadata": {},
     "output_type": "display_data"
    }
   ],
   "source": [
    "# Histograms for both dimensions\n",
    "x = merged_data['Number of passengers (in thousands)']\n",
    "y = merged_data['Air freight (in thousand tons)']\n",
    "\n",
    "plt.rcParams['figure.figsize'] = (20,6)\n",
    "\n",
    "fig, ax = plt.subplots(1,2)\n",
    "ax[0].hist(x, color = 'b')\n",
    "ax[1].hist(y, color = 'g')\n",
    "\n",
    "ax[0].set_xlabel(\"Number of passengers (in thousands)\")\n",
    "ax[0].set_ylabel(\"Frequency\")\n",
    "\n",
    "\n",
    "ax[1].set_xlabel(\"Air freight (in thousand tons)\")\n",
    "ax[1].set_ylabel(\"Frequency\")\n",
    "\n",
    "plt.show()\n",
    "\n"
   ]
  },
  {
   "cell_type": "code",
   "execution_count": 40,
   "metadata": {},
   "outputs": [
    {
     "name": "stdout",
     "output_type": "stream",
     "text": [
      "KStest for passengers: KstestResult(statistic=0.8414634146328664, pvalue=0.0)\n",
      "KStest for air freight: KstestResult(statistic=0.5, pvalue=0.0)\n"
     ]
    }
   ],
   "source": [
    "# Kolmogorov-Smirnov test for normal distribution can be rejected for both dimensions\n",
    "x = merged_data['Number of passengers (in thousands)']\n",
    "y = merged_data['Air freight (in thousand tons)']\n",
    "\n",
    "\n",
    "print(\"KStest for passengers:\", stats.kstest(x, 'norm'))\n",
    "print(\"KStest for air freight:\", stats.kstest(y, 'norm'))"
   ]
  },
  {
   "cell_type": "code",
   "execution_count": 41,
   "metadata": {},
   "outputs": [
    {
     "name": "stdout",
     "output_type": "stream",
     "text": [
      "[64390, 52023, 49750, 101458, 68422, 77987]\n"
     ]
    }
   ],
   "source": [
    "# Outlier analysis for passengers\n",
    "\n",
    "outliers=[]\n",
    "def detect_outlier():\n",
    "    \n",
    "    threshold=3\n",
    "    mean_1 = np.mean(merged_data['Number of passengers (in thousands)'])\n",
    "    std_1 = np.std(merged_data['Number of passengers (in thousands)'])\n",
    "    \n",
    "    for y in merged_data['Number of passengers (in thousands)']:\n",
    "        z_score = (y - mean_1)/std_1\n",
    "        if np.abs(z_score) > threshold:\n",
    "            outliers.append(y)\n",
    "    return outliers\n",
    "    \n",
    "\n",
    "\n",
    "outlier_datapoints = detect_outlier()\n",
    "\n",
    "print(outlier_datapoints)\n"
   ]
  },
  {
   "cell_type": "code",
   "execution_count": 42,
   "metadata": {},
   "outputs": [
    {
     "data": {
      "text/html": [
       "<div>\n",
       "<style scoped>\n",
       "    .dataframe tbody tr th:only-of-type {\n",
       "        vertical-align: middle;\n",
       "    }\n",
       "\n",
       "    .dataframe tbody tr th {\n",
       "        vertical-align: top;\n",
       "    }\n",
       "\n",
       "    .dataframe thead th {\n",
       "        text-align: right;\n",
       "    }\n",
       "</style>\n",
       "<table border=\"1\" class=\"dataframe\">\n",
       "  <thead>\n",
       "    <tr style=\"text-align: right;\">\n",
       "      <th></th>\n",
       "      <th>Region (NUTS 2)</th>\n",
       "      <th>Number of passengers (in thousands)</th>\n",
       "      <th>Air freight (in thousand tons)</th>\n",
       "    </tr>\n",
       "    <tr>\n",
       "      <th>Number of passengers (in thousands)</th>\n",
       "      <th></th>\n",
       "      <th></th>\n",
       "      <th></th>\n",
       "    </tr>\n",
       "  </thead>\n",
       "  <tbody>\n",
       "    <tr>\n",
       "      <th>64390</th>\n",
       "      <td>DE71</td>\n",
       "      <td>64390</td>\n",
       "      <td>2193</td>\n",
       "    </tr>\n",
       "    <tr>\n",
       "      <th>52023</th>\n",
       "      <td>ES30</td>\n",
       "      <td>52023</td>\n",
       "      <td>450</td>\n",
       "    </tr>\n",
       "    <tr>\n",
       "      <th>49750</th>\n",
       "      <td>ES51</td>\n",
       "      <td>49750</td>\n",
       "      <td>139</td>\n",
       "    </tr>\n",
       "    <tr>\n",
       "      <th>101458</th>\n",
       "      <td>FR10</td>\n",
       "      <td>101458</td>\n",
       "      <td>2260</td>\n",
       "    </tr>\n",
       "    <tr>\n",
       "      <th>68422</th>\n",
       "      <td>NL32</td>\n",
       "      <td>68422</td>\n",
       "      <td>1778</td>\n",
       "    </tr>\n",
       "    <tr>\n",
       "      <th>77987</th>\n",
       "      <td>UKI7</td>\n",
       "      <td>77987</td>\n",
       "      <td>1792</td>\n",
       "    </tr>\n",
       "  </tbody>\n",
       "</table>\n",
       "</div>"
      ],
      "text/plain": [
       "                                    Region (NUTS 2)  \\\n",
       "Number of passengers (in thousands)                   \n",
       "64390                                          DE71   \n",
       "52023                                          ES30   \n",
       "49750                                          ES51   \n",
       "101458                                         FR10   \n",
       "68422                                          NL32   \n",
       "77987                                          UKI7   \n",
       "\n",
       "                                     Number of passengers (in thousands)  \\\n",
       "Number of passengers (in thousands)                                        \n",
       "64390                                                              64390   \n",
       "52023                                                              52023   \n",
       "49750                                                              49750   \n",
       "101458                                                            101458   \n",
       "68422                                                              68422   \n",
       "77987                                                              77987   \n",
       "\n",
       "                                     Air freight (in thousand tons)  \n",
       "Number of passengers (in thousands)                                  \n",
       "64390                                                          2193  \n",
       "52023                                                           450  \n",
       "49750                                                           139  \n",
       "101458                                                         2260  \n",
       "68422                                                          1778  \n",
       "77987                                                          1792  "
      ]
     },
     "execution_count": 42,
     "metadata": {},
     "output_type": "execute_result"
    }
   ],
   "source": [
    "# Connect passenger ouliers to regions\n",
    "df2 = merged_data.set_index(\"Number of passengers (in thousands)\", drop = False)\n",
    "df2.loc[outlier_datapoints]"
   ]
  },
  {
   "cell_type": "code",
   "execution_count": 43,
   "metadata": {},
   "outputs": [
    {
     "name": "stdout",
     "output_type": "stream",
     "text": [
      "[2193, 1130, 2260, 1778, 1792]\n"
     ]
    }
   ],
   "source": [
    "# Outlier analysis for air freight\n",
    "\n",
    "outliers2=[]\n",
    "def detect_outlier2():\n",
    "    \n",
    "    threshold=3\n",
    "    mean_2 = np.mean(merged_data['Air freight (in thousand tons)'])\n",
    "    std_2 = np.std(merged_data['Air freight (in thousand tons)'])\n",
    "    \n",
    "    for y in merged_data['Air freight (in thousand tons)']:\n",
    "        z_score = (y - mean_2)/std_2\n",
    "        if np.abs(z_score) > threshold:\n",
    "            outliers2.append(y)\n",
    "    return outliers2\n",
    "    \n",
    "\n",
    "\n",
    "outlier_datapoints2 = detect_outlier2()\n",
    "\n",
    "print(outlier_datapoints2)"
   ]
  },
  {
   "cell_type": "code",
   "execution_count": 44,
   "metadata": {
    "scrolled": true
   },
   "outputs": [
    {
     "data": {
      "text/html": [
       "<div>\n",
       "<style scoped>\n",
       "    .dataframe tbody tr th:only-of-type {\n",
       "        vertical-align: middle;\n",
       "    }\n",
       "\n",
       "    .dataframe tbody tr th {\n",
       "        vertical-align: top;\n",
       "    }\n",
       "\n",
       "    .dataframe thead th {\n",
       "        text-align: right;\n",
       "    }\n",
       "</style>\n",
       "<table border=\"1\" class=\"dataframe\">\n",
       "  <thead>\n",
       "    <tr style=\"text-align: right;\">\n",
       "      <th></th>\n",
       "      <th>Region (NUTS 2)</th>\n",
       "      <th>Number of passengers (in thousands)</th>\n",
       "      <th>Air freight (in thousand tons)</th>\n",
       "    </tr>\n",
       "    <tr>\n",
       "      <th>Air freight (in thousand tons)</th>\n",
       "      <th></th>\n",
       "      <th></th>\n",
       "      <th></th>\n",
       "    </tr>\n",
       "  </thead>\n",
       "  <tbody>\n",
       "    <tr>\n",
       "      <th>2193</th>\n",
       "      <td>DE71</td>\n",
       "      <td>64390</td>\n",
       "      <td>2193</td>\n",
       "    </tr>\n",
       "    <tr>\n",
       "      <th>1130</th>\n",
       "      <td>DED5</td>\n",
       "      <td>2347</td>\n",
       "      <td>1130</td>\n",
       "    </tr>\n",
       "    <tr>\n",
       "      <th>2260</th>\n",
       "      <td>FR10</td>\n",
       "      <td>101458</td>\n",
       "      <td>2260</td>\n",
       "    </tr>\n",
       "    <tr>\n",
       "      <th>1778</th>\n",
       "      <td>NL32</td>\n",
       "      <td>68422</td>\n",
       "      <td>1778</td>\n",
       "    </tr>\n",
       "    <tr>\n",
       "      <th>1792</th>\n",
       "      <td>UKI7</td>\n",
       "      <td>77987</td>\n",
       "      <td>1792</td>\n",
       "    </tr>\n",
       "  </tbody>\n",
       "</table>\n",
       "</div>"
      ],
      "text/plain": [
       "                               Region (NUTS 2)  \\\n",
       "Air freight (in thousand tons)                   \n",
       "2193                                      DE71   \n",
       "1130                                      DED5   \n",
       "2260                                      FR10   \n",
       "1778                                      NL32   \n",
       "1792                                      UKI7   \n",
       "\n",
       "                                Number of passengers (in thousands)  \\\n",
       "Air freight (in thousand tons)                                        \n",
       "2193                                                          64390   \n",
       "1130                                                           2347   \n",
       "2260                                                         101458   \n",
       "1778                                                          68422   \n",
       "1792                                                          77987   \n",
       "\n",
       "                                Air freight (in thousand tons)  \n",
       "Air freight (in thousand tons)                                  \n",
       "2193                                                      2193  \n",
       "1130                                                      1130  \n",
       "2260                                                      2260  \n",
       "1778                                                      1778  \n",
       "1792                                                      1792  "
      ]
     },
     "execution_count": 44,
     "metadata": {},
     "output_type": "execute_result"
    }
   ],
   "source": [
    "# Connect air freight ouliers to regions\n",
    "df3 = merged_data.set_index(\"Air freight (in thousand tons)\", drop = False)\n",
    "df3.loc[outlier_datapoints2]"
   ]
  },
  {
   "cell_type": "code",
   "execution_count": 45,
   "metadata": {},
   "outputs": [],
   "source": [
    "# Renaming the region column, just because it's faster to write\n",
    "merged_data = merged_data.rename(columns={\"Region (NUTS 2)\": \"Region\"})"
   ]
  },
  {
   "cell_type": "markdown",
   "metadata": {},
   "source": [
    "### Data preparation"
   ]
  },
  {
   "cell_type": "code",
   "execution_count": 46,
   "metadata": {},
   "outputs": [],
   "source": [
    "# Delete 7 outliers in total\n",
    "\n",
    "merged_data = merged_data.set_index(\"Region\")\n",
    "\n",
    "merged_data = merged_data.drop([\"DE71\", \"ES30\", \"ES51\", \"FR10\", \"NL32\", \"UKI7\", \"DED5\"], axis=0)"
   ]
  },
  {
   "cell_type": "code",
   "execution_count": 47,
   "metadata": {
    "scrolled": true
   },
   "outputs": [
    {
     "data": {
      "text/html": [
       "<div>\n",
       "<style scoped>\n",
       "    .dataframe tbody tr th:only-of-type {\n",
       "        vertical-align: middle;\n",
       "    }\n",
       "\n",
       "    .dataframe tbody tr th {\n",
       "        vertical-align: top;\n",
       "    }\n",
       "\n",
       "    .dataframe thead th {\n",
       "        text-align: right;\n",
       "    }\n",
       "</style>\n",
       "<table border=\"1\" class=\"dataframe\">\n",
       "  <thead>\n",
       "    <tr style=\"text-align: right;\">\n",
       "      <th></th>\n",
       "      <th>Number of passengers (in thousands)</th>\n",
       "      <th>Air freight (in thousand tons)</th>\n",
       "    </tr>\n",
       "  </thead>\n",
       "  <tbody>\n",
       "    <tr>\n",
       "      <th>count</th>\n",
       "      <td>239.000000</td>\n",
       "      <td>239.000000</td>\n",
       "    </tr>\n",
       "    <tr>\n",
       "      <th>mean</th>\n",
       "      <td>5656.895397</td>\n",
       "      <td>37.384937</td>\n",
       "    </tr>\n",
       "    <tr>\n",
       "      <th>std</th>\n",
       "      <td>9292.381356</td>\n",
       "      <td>118.545857</td>\n",
       "    </tr>\n",
       "    <tr>\n",
       "      <th>min</th>\n",
       "      <td>0.000000</td>\n",
       "      <td>0.000000</td>\n",
       "    </tr>\n",
       "    <tr>\n",
       "      <th>25%</th>\n",
       "      <td>220.500000</td>\n",
       "      <td>0.000000</td>\n",
       "    </tr>\n",
       "    <tr>\n",
       "      <th>50%</th>\n",
       "      <td>1651.000000</td>\n",
       "      <td>1.000000</td>\n",
       "    </tr>\n",
       "    <tr>\n",
       "      <th>75%</th>\n",
       "      <td>6298.000000</td>\n",
       "      <td>15.500000</td>\n",
       "    </tr>\n",
       "    <tr>\n",
       "      <th>max</th>\n",
       "      <td>46692.000000</td>\n",
       "      <td>893.000000</td>\n",
       "    </tr>\n",
       "  </tbody>\n",
       "</table>\n",
       "</div>"
      ],
      "text/plain": [
       "       Number of passengers (in thousands)  Air freight (in thousand tons)\n",
       "count                           239.000000                      239.000000\n",
       "mean                           5656.895397                       37.384937\n",
       "std                            9292.381356                      118.545857\n",
       "min                               0.000000                        0.000000\n",
       "25%                             220.500000                        0.000000\n",
       "50%                            1651.000000                        1.000000\n",
       "75%                            6298.000000                       15.500000\n",
       "max                           46692.000000                      893.000000"
      ]
     },
     "execution_count": 47,
     "metadata": {},
     "output_type": "execute_result"
    }
   ],
   "source": [
    "# Check how dataset changes\n",
    "merged_data.describe()"
   ]
  },
  {
   "cell_type": "code",
   "execution_count": 48,
   "metadata": {},
   "outputs": [
    {
     "data": {
      "image/png": "[encoded data removed]",
      "text/plain": [
       "<matplotlib.figure.Figure at 0x209086a6eb8>"
      ]
     },
     "metadata": {},
     "output_type": "display_data"
    }
   ],
   "source": [
    "# Scatter plot for both dimensions\n",
    "fig, ax = plt.subplots()\n",
    "ax.scatter(merged_data['Number of passengers (in thousands)'], merged_data['Air freight (in thousand tons)'])\n",
    "ax.set_xlabel('Number of passengers (in thousands)')\n",
    "ax.set_ylabel('Air freight (in thousand tons)')\n",
    "plt.show()"
   ]
  },
  {
   "cell_type": "code",
   "execution_count": 49,
   "metadata": {},
   "outputs": [
    {
     "name": "stdout",
     "output_type": "stream",
     "text": [
      "r: 0.45249584356768213\n",
      "r-squared: 0.20475248844602825\n"
     ]
    }
   ],
   "source": [
    "# Calculate R and R^2\n",
    "from scipy import stats\n",
    "x = merged_data['Number of passengers (in thousands)']\n",
    "y = merged_data['Air freight (in thousand tons)']\n",
    "slope, intercept, r_value, p_value, std_err = stats.linregress(x,y)\n",
    "print(\"r:\", r_value)\n",
    "print(\"r-squared:\", r_value**2)"
   ]
  },
  {
   "cell_type": "code",
   "execution_count": 50,
   "metadata": {
    "scrolled": false
   },
   "outputs": [
    {
     "data": {
      "image/png": "[encoded data removed]",
      "text/plain": [
       "<matplotlib.figure.Figure at 0x2090a7db908>"
      ]
     },
     "metadata": {},
     "output_type": "display_data"
    }
   ],
   "source": [
    "# Min-Max-Scaling to bring both dimensions in the range between 0 and 1\n",
    "\n",
    "from sklearn import preprocessing\n",
    "import matplotlib\n",
    "import seaborn as sns\n",
    "%matplotlib inline\n",
    "matplotlib.style.use('ggplot')\n",
    "\n",
    "\n",
    "\n",
    "from sklearn import preprocessing\n",
    "import matplotlib\n",
    "import seaborn as sns\n",
    "%matplotlib inline\n",
    "matplotlib.style.use('ggplot')\n",
    "\n",
    "\n",
    "df = pd.DataFrame({\n",
    "    'Passengers': merged_data['Number of passengers (in thousands)'],\n",
    "    'Air freight': merged_data['Air freight (in thousand tons)']\n",
    "\n",
    "})\n",
    "\n",
    "\n",
    "\n",
    "scaler = preprocessing.MinMaxScaler()\n",
    "scaled_df = scaler.fit_transform(df)\n",
    "scaled_df = pd.DataFrame(scaled_df, columns=['Air freight', 'Passengers'])\n",
    "\n",
    "\n",
    "fig, (ax1, ax2) = plt.subplots(ncols=2, figsize=(20, 6))\n",
    "ax1.set_title('Before Scaling')\n",
    "ax1.set_xlabel(\"Passengers / Air freight\")\n",
    "ax1.set_ylabel(\"Frequency\")\n",
    "sns.kdeplot(df['Passengers'], ax=ax1)\n",
    "sns.kdeplot(df['Air freight'], ax=ax1)\n",
    "ax2.set_title('After Min-Max-Scaling')\n",
    "ax2.set_xlabel(\"Passengers / Air freight\")\n",
    "ax2.set_ylabel(\"Frequency\")\n",
    "sns.kdeplot(scaled_df['Passengers'], ax=ax2)\n",
    "sns.kdeplot(scaled_df['Air freight'], ax=ax2)\n",
    "plt.show()"
   ]
  },
  {
   "cell_type": "code",
   "execution_count": 51,
   "metadata": {
    "scrolled": true
   },
   "outputs": [
    {
     "data": {
      "image/png": "[encoded data removed]",
      "text/plain": [
       "<matplotlib.figure.Figure at 0x2090ac475f8>"
      ]
     },
     "metadata": {},
     "output_type": "display_data"
    }
   ],
   "source": [
    "# Scatter plot for both dimensions remains unchanged after scaling\n",
    "fig, ax = plt.subplots()\n",
    "ax.scatter(scaled_df['Passengers'], scaled_df['Air freight'])\n",
    "ax.set_xlabel('Passengers (scaled)')\n",
    "ax.set_ylabel('Air freight (scaled)')\n",
    "plt.show()"
   ]
  },
  {
   "cell_type": "code",
   "execution_count": 52,
   "metadata": {},
   "outputs": [
    {
     "name": "stdout",
     "output_type": "stream",
     "text": [
      "r: 0.45249584356768335\n",
      "r-squared: 0.20475248844602936\n"
     ]
    }
   ],
   "source": [
    "# Calculate R and R^2 after scaling\n",
    "\n",
    "x = scaled_df['Passengers']\n",
    "y = scaled_df['Air freight']\n",
    "slope, intercept, r_value, p_value, std_err = stats.linregress(x,y)\n",
    "print(\"r:\", r_value)\n",
    "print(\"r-squared:\", r_value**2)"
   ]
  },
  {
   "cell_type": "markdown",
   "metadata": {},
   "source": [
    "### Modelling"
   ]
  },
  {
   "cell_type": "code",
   "execution_count": 53,
   "metadata": {
    "scrolled": true
   },
   "outputs": [
    {
     "name": "stdout",
     "output_type": "stream",
     "text": [
      "[[0.82821948 0.36307719]\n",
      " [0.1324988  0.56644607]\n",
      " [0.01045891 0.05475627]]\n"
     ]
    },
    {
     "data": {
      "text/plain": [
       "<matplotlib.collections.PathCollection at 0x2090b26a320>"
      ]
     },
     "execution_count": 53,
     "metadata": {},
     "output_type": "execute_result"
    },
    {
     "data": {
      "image/png": "[encoded data removed]",
      "text/plain": [
       "<matplotlib.figure.Figure at 0x2090aa3ecf8>"
      ]
     },
     "metadata": {},
     "output_type": "display_data"
    }
   ],
   "source": [
    "# K-means clustering of the scaled dataset\n",
    "\n",
    "from sklearn.cluster import KMeans\n",
    "\n",
    "kmeans = KMeans(n_clusters=3, init='random', n_init=10, max_iter=100).fit(scaled_df)\n",
    "centroids = kmeans.cluster_centers_\n",
    "print(centroids)\n",
    "\n",
    "plt.scatter(scaled_df['Passengers'], scaled_df['Air freight'], c= kmeans.labels_.astype(float), s=50, alpha=0.5)\n",
    "plt.scatter(centroids[:, 0], centroids[:, 1], c='red', s=200, marker='*', edgecolor='black', label = 'Centroids')"
   ]
  },
  {
   "cell_type": "markdown",
   "metadata": {},
   "source": [
    "### Model evaluation"
   ]
  },
  {
   "cell_type": "code",
   "execution_count": 54,
   "metadata": {},
   "outputs": [],
   "source": [
    "# Finding optimal number of clusters by elbow method\n",
    "from sklearn import metrics \n",
    "from scipy.spatial.distance import cdist \n",
    "\n",
    "distortions = [] \n",
    "inertias = [] \n",
    "mapping1 = {} \n",
    "mapping2 = {} \n",
    "K = range(1,10) \n",
    "  \n",
    "for k in K: \n",
    "    #Calculating distortion for 1-10 clusters \n",
    "    kmeanModel = KMeans(n_clusters=k).fit(scaled_df) \n",
    "    kmeanModel.fit(scaled_df)     \n",
    "      \n",
    "    distortions.append(sum(np.min(cdist(scaled_df, kmeanModel.cluster_centers_, \n",
    "                      'euclidean'),axis=1)) / scaled_df.shape[0]) \n",
    "    inertias.append(kmeanModel.inertia_) \n",
    "  \n",
    "    mapping1[k] = sum(np.min(cdist(scaled_df, kmeanModel.cluster_centers_, \n",
    "                 'euclidean'),axis=1)) / scaled_df.shape[0] \n",
    "    mapping2[k] = kmeanModel.inertia_ "
   ]
  },
  {
   "cell_type": "code",
   "execution_count": 55,
   "metadata": {
    "scrolled": true
   },
   "outputs": [
    {
     "name": "stdout",
     "output_type": "stream",
     "text": [
      "1 : 0.15975184561499264\n",
      "2 : 0.09254732532293285\n",
      "3 : 0.0810917407489095\n",
      "4 : 0.06088500964435725\n",
      "5 : 0.05256215311988548\n",
      "6 : 0.048182829320780905\n",
      "7 : 0.039826082855792255\n",
      "8 : 0.03816156061025621\n",
      "9 : 0.036238123819232484\n"
     ]
    }
   ],
   "source": [
    "# Print distortions for 1-10 clusters\n",
    "for key,val in mapping1.items(): \n",
    "    print(str(key)+' : '+str(val)) "
   ]
  },
  {
   "cell_type": "code",
   "execution_count": 56,
   "metadata": {},
   "outputs": [
    {
     "data": {
      "image/png": "[encoded data removed]",
      "text/plain": [
       "<matplotlib.figure.Figure at 0x2090b4b7fd0>"
      ]
     },
     "metadata": {},
     "output_type": "display_data"
    }
   ],
   "source": [
    "# Plotting the elbow chart\n",
    "plt.plot(K, distortions, 'bx-') \n",
    "plt.xlabel('Number of clusters') \n",
    "plt.ylabel('Distortion') \n",
    "plt.title('The Elbow Method using Distortion') \n",
    "plt.show() \n"
   ]
  }
 ],
 "metadata": {
  "kernelspec": {
   "display_name": "Python 3",
   "language": "python",
   "name": "python3"
  },
  "language_info": {
   "codemirror_mode": {
    "name": "ipython",
    "version": 3
   },
   "file_extension": ".py",
   "mimetype": "text/x-python",
   "name": "python",
   "nbconvert_exporter": "python",
   "pygments_lexer": "ipython3",
   "version": "3.6.4"
  }
 },
 "nbformat": 4,
 "nbformat_minor": 2
}
